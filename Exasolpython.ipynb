{
 "cells": [
  {
   "cell_type": "code",
   "execution_count": 2,
   "metadata": {},
   "outputs": [
    {
     "name": "stdout",
     "output_type": "stream",
     "text": [
      "Requirement already satisfied: pyexasol in c:\\users\\ra1507\\anaconda3\\lib\\site-packages (0.14.3)\n",
      "Requirement already satisfied: rsa in c:\\users\\ra1507\\anaconda3\\lib\\site-packages (from pyexasol) (4.6)\n",
      "Requirement already satisfied: websocket-client>=0.47.0 in c:\\users\\ra1507\\anaconda3\\lib\\site-packages (from pyexasol) (0.57.0)\n",
      "Requirement already satisfied: pyasn1>=0.1.3 in c:\\users\\ra1507\\anaconda3\\lib\\site-packages (from rsa->pyexasol) (0.4.8)\n",
      "Requirement already satisfied: six in c:\\users\\ra1507\\anaconda3\\lib\\site-packages (from websocket-client>=0.47.0->pyexasol) (1.15.0)\n"
     ]
    }
   ],
   "source": [
    "!pip install pyexasol"
   ]
  },
  {
   "cell_type": "code",
   "execution_count": 3,
   "metadata": {},
   "outputs": [],
   "source": [
    "import pandas"
   ]
  },
  {
   "cell_type": "code",
   "execution_count": 4,
   "metadata": {},
   "outputs": [],
   "source": [
    "def connect_exasol(query):\n",
    "    import pyexasol\n",
    "    C=pyexasol.connect(dsn=\"Hostname\",user=\"username\",password=\"password\")\n",
    "    return (C.export_to_pandas(query))"
   ]
  },
  {
   "cell_type": "code",
   "execution_count": 15,
   "metadata": {},
   "outputs": [],
   "source": [
    "query=\"select column AS col from tablename\""
   ]
  },
  {
   "cell_type": "code",
   "execution_count": 16,
   "metadata": {},
   "outputs": [],
   "source": [
    "df=connect_exasol(query)"
   ]
  },
  {
   "cell_type": "code",
   "execution_count": 17,
   "metadata": {},
   "outputs": [
    {
     "name": "stdout",
     "output_type": "stream",
     "text": [
      "         SUPLIER\n",
      "0       91012578\n",
      "1       91012578\n",
      "2       91012578\n",
      "3       91012578\n",
      "4       91012578\n",
      "...          ...\n",
      "357524  92054593\n",
      "357525    600092\n",
      "357526    600092\n",
      "357527    600092\n",
      "357528  92055970\n",
      "\n",
      "[357529 rows x 1 columns]\n"
     ]
    }
   ],
   "source": [
    "print(df)"
   ]
  },
  {
   "cell_type": "code",
   "execution_count": null,
   "metadata": {},
   "outputs": [],
   "source": []
  }
 ],
 "metadata": {
  "kernelspec": {
   "display_name": "Python 3",
   "language": "python",
   "name": "python3"
  },
  "language_info": {
   "codemirror_mode": {
    "name": "ipython",
    "version": 3
   },
   "file_extension": ".py",
   "mimetype": "text/x-python",
   "name": "python",
   "nbconvert_exporter": "python",
   "pygments_lexer": "ipython3",
   "version": "3.8.3"
  }
 },
 "nbformat": 4,
 "nbformat_minor": 4
}
